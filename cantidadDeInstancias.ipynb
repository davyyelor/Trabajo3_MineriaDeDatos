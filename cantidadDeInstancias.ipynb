{
 "cells": [
  {
   "cell_type": "markdown",
   "metadata": {},
   "source": [
    "**Kmeans clustering** David Elorza 18/11/2023"
   ]
  },
  {
   "cell_type": "markdown",
   "metadata": {},
   "source": [
    "**Importar los datos**\n",
    "Vamos a usar la libreria de pandas para importar los datos del csv y convertirlos en un data frame con el que podamos trabajar."
   ]
  },
  {
   "cell_type": "code",
   "execution_count": 85,
   "metadata": {},
   "outputs": [],
   "source": [
    "import pandas as pd\n",
    "import numpy as np\n",
    "suicidal_data  = pd.read_csv(\"suicidal_data.csv\",sep=\",\", encoding='cp1252')\n",
    "suicide_detection = pd.read_csv(\"Suicide_Detection.csv\", sep=\",\", encoding=\"utf-8\")\n"
   ]
  },
  {
   "cell_type": "code",
   "execution_count": 86,
   "metadata": {},
   "outputs": [
    {
     "name": "stdout",
     "output_type": "stream",
     "text": [
      "<class 'pandas.core.frame.DataFrame'>\n",
      "RangeIndex: 9206 entries, 0 to 9205\n",
      "Data columns (total 2 columns):\n",
      " #   Column  Non-Null Count  Dtype \n",
      "---  ------  --------------  ----- \n",
      " 0   label   9206 non-null   int64 \n",
      " 1   tweet   9206 non-null   object\n",
      "dtypes: int64(1), object(1)\n",
      "memory usage: 144.0+ KB\n"
     ]
    }
   ],
   "source": [
    "suicidal_data.info()"
   ]
  },
  {
   "cell_type": "code",
   "execution_count": 87,
   "metadata": {},
   "outputs": [
    {
     "name": "stdout",
     "output_type": "stream",
     "text": [
      "<class 'pandas.core.frame.DataFrame'>\n",
      "RangeIndex: 232074 entries, 0 to 232073\n",
      "Data columns (total 3 columns):\n",
      " #   Column      Non-Null Count   Dtype \n",
      "---  ------      --------------   ----- \n",
      " 0   Unnamed: 0  232074 non-null  int64 \n",
      " 1   text        232074 non-null  object\n",
      " 2   class       232074 non-null  object\n",
      "dtypes: int64(1), object(2)\n",
      "memory usage: 5.3+ MB\n"
     ]
    }
   ],
   "source": [
    "suicide_detection.info()"
   ]
  },
  {
   "cell_type": "code",
   "execution_count": 88,
   "metadata": {},
   "outputs": [],
   "source": [
    "suicide_detection['class'] = suicide_detection['class'].replace({'non-suicide': 0, 'suicide': 1})\n"
   ]
  },
  {
   "cell_type": "markdown",
   "metadata": {},
   "source": [
    "**DIFERENTES CONJUNTOS :** Se va a probar con el conjunto inicial con 1000, 3000, 50000, 7000 y se van a probar con más instancias del conjunto suicide detection."
   ]
  },
  {
   "cell_type": "code",
   "execution_count": 89,
   "metadata": {},
   "outputs": [],
   "source": [
    "#suicidal_data = suicidal_data.iloc[:-4000]\n"
   ]
  },
  {
   "cell_type": "code",
   "execution_count": 90,
   "metadata": {},
   "outputs": [],
   "source": [
    "suicidal_data = pd.concat([suicidal_data, suicide_detection[['text', 'class']].rename(columns={'text': 'tweet', 'class': 'label'})[:10000]], ignore_index=True)\n"
   ]
  },
  {
   "cell_type": "code",
   "execution_count": 91,
   "metadata": {},
   "outputs": [
    {
     "name": "stdout",
     "output_type": "stream",
     "text": [
      "Las instancias están repartidas en las dos clases de la siguiente forma:\n",
      "label\n",
      "0    10229\n",
      "1     8977\n",
      "Name: count, dtype: int64\n"
     ]
    }
   ],
   "source": [
    "print(\"Las instancias están repartidas en las dos clases de la siguiente forma:\")\n",
    "print(suicidal_data['label'].value_counts(), end=\"\\n\")"
   ]
  },
  {
   "cell_type": "code",
   "execution_count": 92,
   "metadata": {},
   "outputs": [
    {
     "name": "stdout",
     "output_type": "stream",
     "text": [
      "Instancias duplicadas: 327\n"
     ]
    }
   ],
   "source": [
    "# Check for duplicated instances\n",
    "duplicated_instances = suicidal_data.duplicated().sum()\n",
    "print(\"Instancias duplicadas:\", duplicated_instances)"
   ]
  },
  {
   "cell_type": "code",
   "execution_count": 93,
   "metadata": {},
   "outputs": [
    {
     "name": "stdout",
     "output_type": "stream",
     "text": [
      "Las instancias están repartidas en las dos clases de la siguiente forma:\n",
      "class\n",
      "1    116037\n",
      "0    116037\n",
      "Name: count, dtype: int64\n"
     ]
    }
   ],
   "source": [
    "print(\"Las instancias están repartidas en las dos clases de la siguiente forma:\")\n",
    "print(suicide_detection['class'].value_counts(), end=\"\\n\")"
   ]
  },
  {
   "cell_type": "code",
   "execution_count": 94,
   "metadata": {},
   "outputs": [],
   "source": [
    "train = suicidal_data"
   ]
  },
  {
   "cell_type": "markdown",
   "metadata": {},
   "source": [
    "\n",
    "****Preproceso :**** Para que los tweets tengan la información más relevante vamos a aplicar un preproceso de tal forma que se quiten signos de puntuación, mayúsuculas, stopwords y vamos a lematizar las palabras para que nos den toda la misma información."
   ]
  },
  {
   "cell_type": "code",
   "execution_count": 95,
   "metadata": {},
   "outputs": [
    {
     "name": "stdout",
     "output_type": "stream",
     "text": [
      "Dataset size: (19206, 2)\n",
      "columns are: Index(['label', 'tweet'], dtype='object')\n"
     ]
    }
   ],
   "source": [
    "import re\n",
    "def remove_pattern(input_txt, pattern):\n",
    "    r = re.findall(pattern, input_txt)\n",
    "    for i in r:\n",
    "        input_txt = re.sub(i, '', input_txt)\n",
    "\n",
    "    return input_txt\n",
    "\n",
    "print('Dataset size:',train.shape)\n",
    "print('columns are:',train.columns)"
   ]
  },
  {
   "cell_type": "code",
   "execution_count": 96,
   "metadata": {},
   "outputs": [
    {
     "name": "stdout",
     "output_type": "stream",
     "text": [
      "<class 'pandas.core.series.Series'>\n"
     ]
    }
   ],
   "source": [
    "train['tidy_tweet'] = np.vectorize(remove_pattern)(train['tweet'], \"@[\\w]*\")\n",
    "print(type(train['tidy_tweet']))"
   ]
  },
  {
   "cell_type": "code",
   "execution_count": 97,
   "metadata": {},
   "outputs": [],
   "source": [
    "train['tidy_tweet'] = train['tidy_tweet'].str.replace(\"[^a-zA-Z#]\", \" \")"
   ]
  },
  {
   "cell_type": "code",
   "execution_count": 98,
   "metadata": {},
   "outputs": [],
   "source": [
    "train['tidy_tweet'] = train['tidy_tweet'].apply(lambda x: ' '.join([w for w in x.split() if len(w)>2]))"
   ]
  },
  {
   "cell_type": "code",
   "execution_count": 99,
   "metadata": {},
   "outputs": [
    {
     "data": {
      "text/plain": [
       "0    [life, meaningless, just, want, end, life, bad...\n",
       "1    [muttering, wanna, die, myself, daily, for, fe...\n",
       "2    [work, slave, really, feel, like, only, purpos...\n",
       "3    [did, something, the, october, overdosed, just...\n",
       "4    [feel, like, one, cares, just, want, die, mayb...\n",
       "Name: tidy_tweet, dtype: object"
      ]
     },
     "execution_count": 99,
     "metadata": {},
     "output_type": "execute_result"
    }
   ],
   "source": [
    "tokenized_tweet = train['tidy_tweet'].apply(lambda x: x.split())\n",
    "tokenized_tweet.head()"
   ]
  },
  {
   "cell_type": "code",
   "execution_count": 100,
   "metadata": {},
   "outputs": [],
   "source": [
    "from nltk.stem.porter import *\n",
    "stemmer = PorterStemmer()\n",
    "\n",
    "tokenized_tweet = tokenized_tweet.apply(lambda x: [stemmer.stem(i) for i in x]) # stemming\n",
    "tokenized_tweet.head()\n",
    "for i in range(len(tokenized_tweet)):\n",
    "    tokenized_tweet[i] = ' '.join(tokenized_tweet[i])\n",
    "\n",
    "train['tidy_tweet'] = tokenized_tweet\n"
   ]
  },
  {
   "cell_type": "code",
   "execution_count": 101,
   "metadata": {},
   "outputs": [],
   "source": [
    "import nltk.corpus\n",
    "\n",
    "stopword = nltk.corpus.stopwords.words('english')\n",
    "stopword.extend(['fuck', 'shit'])"
   ]
  },
  {
   "cell_type": "code",
   "execution_count": 102,
   "metadata": {},
   "outputs": [],
   "source": [
    "def remove_stopwords(text):\n",
    "  text = [word for word in text if word not in stopword]\n",
    "  return text\n",
    "\n",
    "# combi['tidy_tweet'] = combi['tidy_tweet'].apply(lambda x: remove_stopwords(x)) # stemming\n",
    "# combi.head()"
   ]
  },
  {
   "cell_type": "code",
   "execution_count": 103,
   "metadata": {},
   "outputs": [],
   "source": [
    "train['tidy_tweet'] = train['tidy_tweet'].apply(lambda x: ' '.join([word for word in x.split() if word not in (stopword)]))\n",
    "\n",
    "#visualize all the words our data using the wordcloud plot\n",
    "all_words = ' '.join([text for text in train['tidy_tweet']])"
   ]
  },
  {
   "cell_type": "markdown",
   "metadata": {},
   "source": [
    "**Vectorizacion**"
   ]
  },
  {
   "cell_type": "code",
   "execution_count": 104,
   "metadata": {},
   "outputs": [
    {
     "data": {
      "text/plain": [
       "(17651827, 20645140)"
      ]
     },
     "execution_count": 104,
     "metadata": {},
     "output_type": "execute_result"
    }
   ],
   "source": [
    "#Word embbeding\n",
    "import gensim\n",
    "tokenized_tweet = train['tidy_tweet'].apply(lambda x: x.split()) # tokenizing\n",
    "\n",
    "model_w2v = gensim.models.Word2Vec(\n",
    "            tokenized_tweet,\n",
    "            vector_size=200, # desired no. of features/independent variables\n",
    "            window=5, # context window size\n",
    "            min_count=2,\n",
    "            sg = 1, # 1 for skip-gram model\n",
    "            hs = 0,\n",
    "            negative = 10, # for negative sampling\n",
    "            workers= 2, # no.of cores\n",
    "            seed = 34)\n",
    "\n",
    "model_w2v.train(tokenized_tweet, total_examples= len(train['tidy_tweet']), epochs=20)"
   ]
  },
  {
   "cell_type": "code",
   "execution_count": 105,
   "metadata": {},
   "outputs": [],
   "source": [
    "def word_vector(tokens, size):\n",
    "    vec = np.zeros(size).reshape((1, size))\n",
    "    count = 0.\n",
    "    for word in tokens:\n",
    "        try:\n",
    "            vec += model_w2v.wv.get_vector(word).reshape((1, size))\n",
    "            count += 1.\n",
    "        except KeyError:  # handling the case where the token is not in vocabulary\n",
    "\n",
    "            continue\n",
    "    if count != 0:\n",
    "        vec /= count\n",
    "    return vec"
   ]
  },
  {
   "cell_type": "code",
   "execution_count": 106,
   "metadata": {},
   "outputs": [
    {
     "data": {
      "text/plain": [
       "(19206, 200)"
      ]
     },
     "execution_count": 106,
     "metadata": {},
     "output_type": "execute_result"
    }
   ],
   "source": [
    "wordvec_arrays = np.zeros((len(tokenized_tweet), 200))\n",
    "\n",
    "for i in range(len(tokenized_tweet)):\n",
    "    wordvec_arrays[i, :] = word_vector(tokenized_tweet[i], 200)\n",
    "\n",
    "wordvec_df = pd.DataFrame(wordvec_arrays)\n",
    "wordvec_df.shape"
   ]
  },
  {
   "cell_type": "markdown",
   "metadata": {},
   "source": [
    "**Clustering**"
   ]
  },
  {
   "cell_type": "code",
   "execution_count": 107,
   "metadata": {},
   "outputs": [
    {
     "name": "stderr",
     "output_type": "stream",
     "text": [
      "c:\\Users\\david\\anaconda3\\envs\\mineriaDD\\Lib\\site-packages\\sklearn\\cluster\\_kmeans.py:1416: FutureWarning: The default value of `n_init` will change from 10 to 'auto' in 1.4. Set the value of `n_init` explicitly to suppress the warning\n",
      "  super()._check_params_vs_input(X, default_n_init=10)\n"
     ]
    }
   ],
   "source": [
    "from sklearn.cluster import KMeans\n",
    "from sklearn.metrics import f1_score, precision_score, recall_score, silhouette_score, confusion_matrix\n",
    "\n",
    "kmeans = KMeans(n_clusters=2, random_state=42)\n",
    "\n",
    "kmeans.fit(wordvec_df)\n",
    "predicted_labels = kmeans.labels_"
   ]
  },
  {
   "cell_type": "markdown",
   "metadata": {},
   "source": [
    "**Resultados**"
   ]
  },
  {
   "cell_type": "code",
   "execution_count": 108,
   "metadata": {},
   "outputs": [
    {
     "name": "stdout",
     "output_type": "stream",
     "text": [
      "Precision nuestro KMeans con w2v: 0.0\n",
      "Recall nuestro KMeans con w2v: 0.0\n",
      "Puntuación F-Score para KMeans en todo el conjunto de datos: 0.0\n",
      "Puntuación de la Silueta para KMeans en Word2Vec Features: 0.682903442232626\n"
     ]
    }
   ],
   "source": [
    "##########################################################\n",
    "precision = precision_score(train['label'], predicted_labels)\n",
    "print(\"Precision nuestro KMeans con w2v:\", precision)\n",
    "\n",
    "##########################################################\n",
    "recall = recall_score(train['label'], predicted_labels)\n",
    "print(\"Recall nuestro KMeans con w2v:\", recall)\n",
    "\n",
    "#########################################################\n",
    "f1 = f1_score(train['label'], predicted_labels)\n",
    "print(\"Puntuación F-Score para KMeans en todo el conjunto de datos:\", f1)\n",
    "\n",
    "##########################################################\n",
    "silhouette_avg = silhouette_score(wordvec_df, predicted_labels)\n",
    "print(\"Puntuación de la Silueta para KMeans en Word2Vec Features:\", silhouette_avg)\n"
   ]
  },
  {
   "cell_type": "code",
   "execution_count": 109,
   "metadata": {},
   "outputs": [
    {
     "data": {
      "image/png": "[encoded data removed]",
      "text/plain": [
       "<Figure size 640x480 with 2 Axes>"
      ]
     },
     "metadata": {},
     "output_type": "display_data"
    }
   ],
   "source": [
    "import matplotlib.pyplot as plt\n",
    "import seaborn as sns\n",
    "to_string = lambda x : str(x)\n",
    "# Obtener matriz de confusión Class to clustering eval\n",
    "cm = confusion_matrix(np.vectorize(to_string)(predicted_labels), np.vectorize(to_string)(train['label']))\n",
    "# Mapa de calor a partir de la matriz de confusion sin números\n",
    "ax = sns.heatmap(cm, annot=False, cmap=\"Blues\")\n",
    "plt.xlabel('Clase Real')\n",
    "plt.ylabel('Cluster')\n",
    "plt.title('Matriz de Confusión sin relabelización para w2v')\n",
    "plt.show()"
   ]
  },
  {
   "cell_type": "code",
   "execution_count": 110,
   "metadata": {},
   "outputs": [],
   "source": [
    "# Define una función para mapear clases reales a clusters\n",
    "def class_to_cluster(predicted_labels, true_labels, cluster_labels):\n",
    "    cluster_mapping = {}  # Diccionario para mapear clases a clusters\n",
    "    for cluster_label in cluster_labels:\n",
    "        cluster_instances = true_labels[predicted_labels == cluster_label]\n",
    "        unique_classes, class_counts = np.unique(cluster_instances, return_counts=True)\n",
    "        most_frequent_class = unique_classes[np.argmax(class_counts)]\n",
    "        cluster_mapping[cluster_label] = most_frequent_class\n",
    "    return cluster_mapping"
   ]
  },
  {
   "cell_type": "code",
   "execution_count": 111,
   "metadata": {},
   "outputs": [
    {
     "data": {
      "image/png": "[encoded data removed]",
      "text/plain": [
       "<Figure size 640x480 with 2 Axes>"
      ]
     },
     "metadata": {},
     "output_type": "display_data"
    }
   ],
   "source": [
    "# Supongamos que tienes predicted_labels_KM_w2v y train['label'] como tus etiquetas\n",
    "# y los clusters generados por K-means en cluster_labels\n",
    "cluster_mapping = class_to_cluster(predicted_labels, train['label'], np.unique(predicted_labels))\n",
    "\n",
    "# Mapea las etiquetas reales a los clusters utilizando el diccionario cluster_mapping\n",
    "mapped_labels = np.vectorize(cluster_mapping.get)(predicted_labels)\n",
    "\n",
    "# Calcula la matriz de confusión\n",
    "cm = confusion_matrix(np.vectorize(to_string)(mapped_labels), np.vectorize(to_string)(train['label']))\n",
    "\n",
    "# Crea el mapa de calor a partir de la matriz de confusión\n",
    "ax = sns.heatmap(cm, annot=False, cmap=\"Blues\")\n",
    "plt.xlabel('Clase Real')\n",
    "plt.ylabel('Cluster')\n",
    "plt.title('Matriz de Confusión con mapeo de clases a clusters para w2v')\n",
    "plt.show()"
   ]
  },
  {
   "cell_type": "code",
   "execution_count": 122,
   "metadata": {},
   "outputs": [
    {
     "name": "stdout",
     "output_type": "stream",
     "text": [
      "19129\n"
     ]
    }
   ],
   "source": [
    "print(np.sum(predicted_labels == 0))\n"
   ]
  },
  {
   "cell_type": "code",
   "execution_count": 112,
   "metadata": {},
   "outputs": [
    {
     "name": "stdout",
     "output_type": "stream",
     "text": [
      "Tasa de Error: 0.4674060189524107\n"
     ]
    }
   ],
   "source": [
    "# Calculate the confusion matrix with the reassigned labels\n",
    "cm = confusion_matrix(train['label'], mapped_labels)\n",
    "total_correct = np.trace(cm)  # Suma de valores en la diagonal principal\n",
    "total_samples = np.sum(cm)    # Suma de todos los valores en la matriz de confusión\n",
    "\n",
    "# Calcular el número total de clasificaciones incorrectas\n",
    "total_incorrect = total_samples - total_correct\n",
    "\n",
    "# Calcular la tasa de error\n",
    "error_rate = total_incorrect / total_samples\n",
    "\n",
    "print(\"Tasa de Error:\", error_rate)"
   ]
  },
  {
   "cell_type": "markdown",
   "metadata": {},
   "source": [
    "**Imprimir resultados**"
   ]
  },
  {
   "cell_type": "code",
   "execution_count": 113,
   "metadata": {},
   "outputs": [
    {
     "ename": "NameError",
     "evalue": "name 'trai' is not defined",
     "output_type": "error",
     "traceback": [
      "\u001b[1;31m---------------------------------------------------------------------------\u001b[0m",
      "\u001b[1;31mNameError\u001b[0m                                 Traceback (most recent call last)",
      "\u001b[1;32mc:\\Users\\david\\OneDrive\\Escritorio\\laboMineria\\cantidadDeInstancias.ipynb Cell 37\u001b[0m line \u001b[0;36m7\n\u001b[0;32m      <a href='vscode-notebook-cell:/c%3A/Users/david/OneDrive/Escritorio/laboMineria/cantidadDeInstancias.ipynb#X51sZmlsZQ%3D%3D?line=4'>5</a>\u001b[0m writer\u001b[39m.\u001b[39mwriterow([\u001b[39m'\u001b[39m\u001b[39m#############################  Datos ###############################\u001b[39m\u001b[39m'\u001b[39m])\n\u001b[0;32m      <a href='vscode-notebook-cell:/c%3A/Users/david/OneDrive/Escritorio/laboMineria/cantidadDeInstancias.ipynb#X51sZmlsZQ%3D%3D?line=5'>6</a>\u001b[0m writer\u001b[39m.\u001b[39mwriterow([\u001b[39m'\u001b[39m\u001b[39m1) Las instancias están repartidas en las dos clases de la siguiente forma:\u001b[39m\u001b[39m'\u001b[39m])\n\u001b[1;32m----> <a href='vscode-notebook-cell:/c%3A/Users/david/OneDrive/Escritorio/laboMineria/cantidadDeInstancias.ipynb#X51sZmlsZQ%3D%3D?line=6'>7</a>\u001b[0m writer\u001b[39m.\u001b[39mwriterow([trai[\u001b[39m'\u001b[39m\u001b[39mlabel\u001b[39m\u001b[39m'\u001b[39m]\u001b[39m.\u001b[39mvalue_counts()])\n\u001b[0;32m      <a href='vscode-notebook-cell:/c%3A/Users/david/OneDrive/Escritorio/laboMineria/cantidadDeInstancias.ipynb#X51sZmlsZQ%3D%3D?line=7'>8</a>\u001b[0m writer\u001b[39m.\u001b[39mwriterow([\u001b[39m'\u001b[39m\u001b[39m2) Instancias duplicadas:\u001b[39m\u001b[39m'\u001b[39m, duplicated_instances])\n\u001b[0;32m      <a href='vscode-notebook-cell:/c%3A/Users/david/OneDrive/Escritorio/laboMineria/cantidadDeInstancias.ipynb#X51sZmlsZQ%3D%3D?line=8'>9</a>\u001b[0m writer\u001b[39m.\u001b[39mwriterow([\u001b[39m'\u001b[39m\u001b[39m################################## Resultados #######################\u001b[39m\u001b[39m'\u001b[39m])\n",
      "\u001b[1;31mNameError\u001b[0m: name 'trai' is not defined"
     ]
    }
   ],
   "source": [
    "import csv\n",
    "with open('resultadosCantidadDeInstancias.csv', mode='a', newline='') as file:\n",
    "    writer = csv.writer(file)\n",
    "    writer.writerow([f'Iteración nº: 2 -> Borrado de 2000 instancias aleatorias'])\n",
    "    writer.writerow(['#############################  Datos ###############################'])\n",
    "    writer.writerow(['1) Las instancias están repartidas en las dos clases de la siguiente forma:'])\n",
    "    writer.writerow([trai['label'].value_counts()])\n",
    "    writer.writerow(['2) Instancias duplicadas:', duplicated_instances])\n",
    "    writer.writerow(['################################## Resultados #######################'])\n",
    "    writer.writerow(['1)  Precision nuestro KMeans con w2v:', precision])\n",
    "    writer.writerow(['2)  Recall nuestro KMeans con w2v:', recall])\n",
    "    writer.writerow(['3) Puntuación F-Score para KMeans en todo el conjunto de datos:', f1])\n",
    "    writer.writerow(['4) Puntuación de la Silueta para KMeans en Word2Vec Features:', silhouette_avg])\n",
    "    writer.writerow(['5) Tasa de Error:', error_rate])\n",
    "    writer.writerow(['#################################################################'])\n",
    "    writer.writerow(['#################################################################'])\n",
    "    writer.writerow(['#################################################################'])\n",
    "    writer.writerow(\"\")\n"
   ]
  },
  {
   "cell_type": "code",
   "execution_count": null,
   "metadata": {},
   "outputs": [],
   "source": [
    "precision = [0.04317111459968603, 0.7464671654197839, 0.6127033307513555, 0.6185735887096774, 0.6315845824411135, 0.46256349363414473]\n",
    "recall = [0.016541353383458645, 0.9841095890410959, 0.9736582964057114, 0.9738147193017258,0.975525053745659, 1.0]\n",
    "fscore = [0.02481497605572486, 0.019851116625310174, 0.7518525555766672, 0.7572410597049509, 0.7663636363636364, 0.6325380000902079, 0.0, 0.638773259330416, 0.6420714055966549, 0.6441534034181006]\n",
    "silhouette = [0.2486628759541895, 0.18050751746324287, 0.16536015553011274, 0.16582413465739546,0.17030043490510507, 0.6646941566834278]\n",
    "error = [0.13772570111409912, 0.17735220649458786, 0.283184879426461, 0.2819025522041763, 0.27177040739058006, 0.4611337629882941]\n",
    "\n",
    "\n"
   ]
  },
  {
   "cell_type": "code",
   "execution_count": null,
   "metadata": {},
   "outputs": [
    {
     "data": {
      "image/png": "[encoded data removed]",
      "text/plain": [
       "<Figure size 1000x600 with 1 Axes>"
      ]
     },
     "metadata": {},
     "output_type": "display_data"
    }
   ],
   "source": [
    "import matplotlib.pyplot as plt\n",
    "\n",
    "# Porcentaje de ruido de 0.0 a 0.09 en incrementos de 0.01\n",
    "porcentaje_ruido = [5000, 7000, 9000, 11000, 13000, 15000, 17000, 19000, 21000, 23000]\n",
    "\n",
    "# Crear el gráfico\n",
    "plt.figure(figsize=(10, 6))\n",
    "\n",
    "# Graficar cada métrica\n",
    "#plt.plot(porcentaje_ruido, precision, label='Precision')\n",
    "#plt.plot(porcentaje_ruido, recall, label='Recall')\n",
    "plt.plot(porcentaje_ruido, fscore, label='F-Score', linewidth=8.0)\n",
    "#plt.plot(porcentaje_ruido, silhouette, label='Silhouette')\n",
    "#plt.plot(porcentaje_ruido, error, label='Error')\n",
    "    \n",
    "# Configurar ejes y leyenda\n",
    "plt.xlabel('Porcentaje de Ruido')\n",
    "plt.ylabel('Valor de la Métrica')\n",
    "plt.title('F-Score vs. Porcentaje de Ruido')\n",
    "plt.xticks(porcentaje_ruido)\n",
    "plt.yticks([i * 0.1 for i in range(11)])\n",
    "plt.legend()\n",
    "plt.grid(True)\n",
    "\n",
    "# Mostrar el gráfico\n",
    "plt.show()"
   ]
  }
 ],
 "metadata": {
  "kernelspec": {
   "display_name": "mineriaDD",
   "language": "python",
   "name": "python3"
  },
  "language_info": {
   "codemirror_mode": {
    "name": "ipython",
    "version": 3
   },
   "file_extension": ".py",
   "mimetype": "text/x-python",
   "name": "python",
   "nbconvert_exporter": "python",
   "pygments_lexer": "ipython3",
   "version": "3.11.5"
  }
 },
 "nbformat": 4,
 "nbformat_minor": 2
}
